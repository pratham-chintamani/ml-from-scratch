{
  "nbformat": 4,
  "nbformat_minor": 0,
  "metadata": {
    "colab": {
      "provenance": [],
      "authorship_tag": "ABX9TyOtGaK8Lwsj52ih0j2/axx7",
      "include_colab_link": true
    },
    "kernelspec": {
      "name": "python3",
      "display_name": "Python 3"
    },
    "language_info": {
      "name": "python"
    }
  },
  "cells": [
    {
      "cell_type": "markdown",
      "metadata": {
        "id": "view-in-github",
        "colab_type": "text"
      },
      "source": [
        "<a href=\"https://colab.research.google.com/github/pratham-chintamani/ml-from-scratch/blob/main/bank_note_authentication_perceptron.ipynb\" target=\"_parent\"><img src=\"https://colab.research.google.com/assets/colab-badge.svg\" alt=\"Open In Colab\"/></a>"
      ]
    },
    {
      "cell_type": "markdown",
      "source": [
        "https://archive.ics.uci.edu/dataset/267/banknote+authentication\n",
        "dataset"
      ],
      "metadata": {
        "id": "32IA83CsCcHB"
      }
    },
    {
      "cell_type": "code",
      "execution_count": null,
      "metadata": {
        "id": "bE3N703p_nCb"
      },
      "outputs": [],
      "source": [
        "#libraries\n",
        "import pandas as pd\n",
        "import numpy as np\n",
        "from sklearn.model_selection import train_test_split"
      ]
    },
    {
      "cell_type": "markdown",
      "source": [],
      "metadata": {
        "id": "EY57SU6dCgai"
      }
    },
    {
      "cell_type": "code",
      "source": [
        "#data loading\n",
        "df = pd.read_csv(\"/content/data_banknote_authentication.txt\")\n",
        "df.columns = [\"variance\",\"skewness\",\"curtosis\",\"entropy\",\"target\"]\n",
        "df = df.sample(frac = 1)\n",
        "df = df.reset_index(drop = True)\n"
      ],
      "metadata": {
        "id": "zBAWfOuA_xfG"
      },
      "execution_count": null,
      "outputs": []
    },
    {
      "cell_type": "code",
      "source": [
        "#preprocessing\n",
        "y = df.target\n",
        "X = df.drop([\"target\"],axis = 1)\n",
        "X_train ,X_test,y_train,y_test = train_test_split(X,y,train_size = 0.70,random_state = 0)"
      ],
      "metadata": {
        "id": "S9grXOvhH9gj"
      },
      "execution_count": null,
      "outputs": []
    },
    {
      "cell_type": "code",
      "source": [
        "#pddf to numpy\n",
        "X_train = X_train.to_numpy()\n",
        "X_test = X_test.to_numpy()\n",
        "y_train = y_train.to_numpy()\n",
        "y_test = y_test.to_numpy()"
      ],
      "metadata": {
        "id": "orRsMfXAKVxu"
      },
      "execution_count": null,
      "outputs": []
    },
    {
      "cell_type": "code",
      "source": [
        "#converting 0 and 1 target to -1 and 1 target\n",
        "y_train[y_train == 0] = -1\n",
        "y_test[y_test == 0] = -1"
      ],
      "metadata": {
        "id": "i_KErStsMBh1"
      },
      "execution_count": null,
      "outputs": []
    },
    {
      "cell_type": "code",
      "source": [
        "#assigning number of rows to variables\n",
        "n = np.shape(X_train)[0]\n",
        "m = np.shape(X_test)[0]"
      ],
      "metadata": {
        "id": "Yr7m3ZAcK7s0"
      },
      "execution_count": null,
      "outputs": []
    },
    {
      "cell_type": "code",
      "source": [
        "#hyperparameter T\n",
        "T = 1000"
      ],
      "metadata": {
        "id": "JdthrBXILYMu"
      },
      "execution_count": null,
      "outputs": []
    },
    {
      "cell_type": "code",
      "source": [
        "#initializing the separator\n",
        "theta = np.zeros(4)\n",
        "theta_0 = 0"
      ],
      "metadata": {
        "id": "EI2AJHaALZqL"
      },
      "execution_count": null,
      "outputs": []
    },
    {
      "cell_type": "code",
      "source": [
        "#the perceptron\n",
        "count = 0\n",
        "for t in range(0,T):\n",
        "  temp = theta\n",
        "  temp2 = theta_0\n",
        "  count += 1\n",
        "  for i in range(0,n):\n",
        "    if ((y_train[i]*(theta.dot(X_train[i][:])+theta_0)) <= 0):\n",
        "      theta = theta + y_train[i]*X_train[i][:]\n",
        "      theta_0 = theta_0 + y_train[i]\n",
        "  if((theta.all() == temp.all()) and (temp2 == theta_0)):\n",
        "    break\n",
        "count"
      ],
      "metadata": {
        "colab": {
          "base_uri": "https://localhost:8080/"
        },
        "id": "eDH2y--OLvyX",
        "outputId": "f18fc45d-0985-4f17-fd31-e561b9b8b58d"
      },
      "execution_count": null,
      "outputs": [
        {
          "output_type": "execute_result",
          "data": {
            "text/plain": [
              "46"
            ]
          },
          "metadata": {},
          "execution_count": 208
        }
      ]
    },
    {
      "cell_type": "code",
      "source": [
        "#initializing prediction vector\n",
        "y_pred = np.zeros(m)"
      ],
      "metadata": {
        "id": "d7X4ReTnN54v"
      },
      "execution_count": null,
      "outputs": []
    },
    {
      "cell_type": "code",
      "source": [
        "#prediction\n",
        "y_pred = np.sign(np.dot(theta, X_test.T)+theta_0)"
      ],
      "metadata": {
        "id": "iufsNmFiOClp"
      },
      "execution_count": null,
      "outputs": []
    },
    {
      "cell_type": "code",
      "source": [
        "#error\n",
        "a = 0\n",
        "for i in range(0,m):\n",
        "  if(y_pred[i]==y_test[i]):\n",
        "    a += 1\n",
        "accuracy = a/m\n",
        "accuracy"
      ],
      "metadata": {
        "colab": {
          "base_uri": "https://localhost:8080/"
        },
        "id": "jNzqnRGgOH-2",
        "outputId": "08cc0bd8-0d08-42f8-bc53-42da7299eabc"
      },
      "execution_count": null,
      "outputs": [
        {
          "output_type": "execute_result",
          "data": {
            "text/plain": [
              "0.9927184466019418"
            ]
          },
          "metadata": {},
          "execution_count": 211
        }
      ]
    },
    {
      "cell_type": "code",
      "source": [
        "print (theta,\"\\n\",theta_0)\n",
        "#[-130.382811   -69.731308   -86.670013    -3.1499838] 137 - 99.75728155339806% after 100 iterations without breaking loop train = 0.7"
      ],
      "metadata": {
        "colab": {
          "base_uri": "https://localhost:8080/"
        },
        "id": "CgIhDbMSP6kH",
        "outputId": "8030b301-17b4-4f2f-8ec0-d5c249ba5246"
      },
      "execution_count": null,
      "outputs": [
        {
          "output_type": "stream",
          "name": "stdout",
          "text": [
            "[-97.98824   -50.751918  -56.295041  -10.3914858] \n",
            " 88\n"
          ]
        }
      ]
    }
  ]
}