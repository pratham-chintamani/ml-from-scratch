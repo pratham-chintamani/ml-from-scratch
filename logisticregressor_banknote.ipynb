{
  "nbformat": 4,
  "nbformat_minor": 0,
  "metadata": {
    "colab": {
      "provenance": [],
      "authorship_tag": "ABX9TyNaKXtL3s2PHIgGCOq8rdEZ",
      "include_colab_link": true
    },
    "kernelspec": {
      "name": "python3",
      "display_name": "Python 3"
    },
    "language_info": {
      "name": "python"
    }
  },
  "cells": [
    {
      "cell_type": "markdown",
      "metadata": {
        "id": "view-in-github",
        "colab_type": "text"
      },
      "source": [
        "<a href=\"https://colab.research.google.com/github/pratham-chintamani/ml-from-scratch/blob/main/logisticregressor_banknote.ipynb\" target=\"_parent\"><img src=\"https://colab.research.google.com/assets/colab-badge.svg\" alt=\"Open In Colab\"/></a>"
      ]
    },
    {
      "cell_type": "code",
      "execution_count": null,
      "metadata": {
        "id": "K-pI36qHmMAb"
      },
      "outputs": [],
      "source": [
        "#libraries\n",
        "import pandas as pd\n",
        "import numpy as np\n",
        "from sklearn.preprocessing import StandardScaler\n",
        "from sklearn.model_selection import train_test_split\n",
        "import math"
      ]
    },
    {
      "cell_type": "code",
      "source": [
        "#data loading\n",
        "df = pd.read_csv(\"/content/data_banknote_authentication.txt\")\n",
        "df.columns = [\"variance\",\"skewness\",\"curtosis\",\"entropy\",\"target\"]\n",
        "df = df.sample(frac = 1)\n",
        "df = df.reset_index(drop = True)\n"
      ],
      "metadata": {
        "id": "ykgjHHtimnZ7"
      },
      "execution_count": null,
      "outputs": []
    },
    {
      "cell_type": "code",
      "source": [
        "#preprocessing\n",
        "y = df.target\n",
        "X = df.drop([\"target\"],axis = 1)\n",
        "X_train_nonnormalized ,X_test_nonnormalized,y_train,y_test = train_test_split(X,y,train_size = 0.70,random_state = 0)"
      ],
      "metadata": {
        "id": "cuLuNL_HmuZG"
      },
      "execution_count": null,
      "outputs": []
    },
    {
      "cell_type": "code",
      "source": [
        "scaler = StandardScaler()\n",
        "X_train = scaler.fit_transform(X_train_nonnormalized)\n",
        "X_test = scaler.transform(X_test_nonnormalized)"
      ],
      "metadata": {
        "id": "cYBc89MSCeY0"
      },
      "execution_count": null,
      "outputs": []
    },
    {
      "cell_type": "code",
      "source": [
        "y_train = np.array(y_train)\n",
        "y_test = np.array(y_test)\n",
        "X_train = np.array(X_train)\n",
        "X_test = np.array(X_test)"
      ],
      "metadata": {
        "id": "Ya3W8EK2rV2g"
      },
      "execution_count": null,
      "outputs": []
    },
    {
      "cell_type": "code",
      "source": [
        "def initialize_theta(dim):\n",
        "  theta = np.zeros(dim)\n",
        "  theta_0 = 0\n",
        "  return theta,theta_0"
      ],
      "metadata": {
        "id": "lzOhEnavFuIA"
      },
      "execution_count": null,
      "outputs": []
    },
    {
      "cell_type": "code",
      "source": [
        "def sigmoid(z):\n",
        "  s = 1/(1+np.exp(-z))\n",
        "  return s"
      ],
      "metadata": {
        "id": "FgMPeUWvGAV0"
      },
      "execution_count": null,
      "outputs": []
    },
    {
      "cell_type": "code",
      "source": [
        "def crossentropy(y_true,y_pred):\n",
        "  y_true = np.array(y_true)\n",
        "  y_pred = np.array(y_pred)\n",
        "  log_loss = -1*(np.mean(y_true*np.log10(y_pred)+(1-y_true)*np.log10(1-y_pred)))\n",
        "  return log_loss"
      ],
      "metadata": {
        "id": "S0Yd0tHiGYYY"
      },
      "execution_count": null,
      "outputs": []
    },
    {
      "cell_type": "code",
      "source": [
        "def gradient_dw(X, y, theta, theta_0, alpha, N):\n",
        "  dw = X*(y-sigmoid(np.dot(theta.T,X)+theta_0))-((alpha*theta*theta)/N)\n",
        "  return dw"
      ],
      "metadata": {
        "id": "IoTSjJpnG-Y-"
      },
      "execution_count": null,
      "outputs": []
    },
    {
      "cell_type": "code",
      "source": [
        "def gradient_db(X,y,theta,theta_0):\n",
        "  db = y - sigmoid(np.dot(theta.T,X)+theta_0)\n",
        "  return db"
      ],
      "metadata": {
        "id": "81QqhAA7IVRc"
      },
      "execution_count": null,
      "outputs": []
    },
    {
      "cell_type": "code",
      "source": [
        "def train(X_train, y_train,X_test,y_test,epochs,alpha,eta0):\n",
        "  theta,theta_0 = initialize_theta(len(X_train[0]))\n",
        "  N = len(X_train)\n",
        "  nll_train = []\n",
        "  nll_test = []\n",
        "\n",
        "  for i in range(0,epochs):\n",
        "    for j in range(N):\n",
        "      grad_dw = gradient_dw(X_train[j],y_train[j],theta,theta_0,alpha,N)\n",
        "      grad_db = gradient_db(X_train[j],y_train[j],theta,theta_0)\n",
        "      theta = np.array(theta)+(eta0*np.array(grad_dw))\n",
        "      theta_0 = theta_0 + (eta0*grad_db)\n",
        "\n",
        "    pred_train = []\n",
        "    for m in range(len(y_train)):\n",
        "      z = (theta.dot(X_train[m]))+theta_0\n",
        "      pred_train.append(sigmoid(z))\n",
        "\n",
        "    train_loss = crossentropy(y_train, pred_train)\n",
        "\n",
        "    pred_test = []\n",
        "    for m in range(len(y_test)):\n",
        "      z = (theta.dot(X_test[m]))+theta_0\n",
        "      pred_test.append(sigmoid(z))\n",
        "\n",
        "    test_loss = crossentropy(y_test,pred_test)\n",
        "\n",
        "    if nll_train and train_loss > nll_train[-1]:\n",
        "      return theta, theta_0, nll_train, nll_test\n",
        "\n",
        "    nll_train.append(train_loss)\n",
        "    nll_test.append(test_loss)\n",
        "\n",
        "    return theta, theta_0, nll_train, nll_test"
      ],
      "metadata": {
        "id": "vBB1t-miI1I3"
      },
      "execution_count": null,
      "outputs": []
    },
    {
      "cell_type": "code",
      "source": [
        "alpha = 0.05\n",
        "eta0 = 0.75\n",
        "epochs = 10000\n",
        "theta, theta_0,nll_train, nll_test= train(X_train,y_train,X_test,y_test,epochs,alpha,eta0)"
      ],
      "metadata": {
        "id": "E6cmRHYbLcuF"
      },
      "execution_count": null,
      "outputs": []
    },
    {
      "cell_type": "code",
      "source": [
        "print(nll_test)"
      ],
      "metadata": {
        "colab": {
          "base_uri": "https://localhost:8080/"
        },
        "id": "jtb2pzSzr1PO",
        "outputId": "ac42ba6e-1741-4b10-df19-dc1630f3128b"
      },
      "execution_count": null,
      "outputs": [
        {
          "output_type": "stream",
          "name": "stdout",
          "text": [
            "[0.011869010602006777]\n"
          ]
        }
      ]
    }
  ]
}