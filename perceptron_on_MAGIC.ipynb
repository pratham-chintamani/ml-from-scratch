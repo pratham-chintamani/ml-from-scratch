{
  "cells": [
    {
      "cell_type": "markdown",
      "metadata": {
        "id": "view-in-github",
        "colab_type": "text"
      },
      "source": [
        "<a href=\"https://colab.research.google.com/github/pratham-chintamani/ml-from-scratch/blob/main/perceptron_on_MAGIC.ipynb\" target=\"_parent\"><img src=\"https://colab.research.google.com/assets/colab-badge.svg\" alt=\"Open In Colab\"/></a>"
      ]
    },
    {
      "cell_type": "markdown",
      "metadata": {
        "id": "X1UbyUrvodYA"
      },
      "source": [
        "data is from https://archive.ics.uci.edu/dataset/159/magic+gamma+telescope"
      ]
    },
    {
      "cell_type": "code",
      "execution_count": null,
      "metadata": {
        "id": "nv7J8n21l6tX"
      },
      "outputs": [],
      "source": [
        "#libraries\n",
        "import numpy as np\n",
        "import pandas as pd\n",
        "from sklearn.model_selection import train_test_split"
      ]
    },
    {
      "cell_type": "code",
      "execution_count": null,
      "metadata": {
        "id": "z9Ptmu44mOp_"
      },
      "outputs": [],
      "source": [
        "#cols were missing\n",
        "cols = [\"fLength\", \"fWidth\", \"fSize\", \"fConc\", \"fConc1\", \"fAsym\", \"fM3Long\", \"fM3Trans\", \"fALpha\", \"fDist\", \"target\"]\n",
        "df = pd.read_csv(\"magic04.data\",names = cols)\n"
      ]
    },
    {
      "cell_type": "code",
      "execution_count": null,
      "metadata": {
        "id": "wBBdJHSvmZ6x"
      },
      "outputs": [],
      "source": [
        "df[\"target\"] = (df[\"target\"] == \"g\").astype(int)"
      ]
    },
    {
      "cell_type": "code",
      "execution_count": null,
      "metadata": {
        "id": "qYRz_MqnmdQb"
      },
      "outputs": [],
      "source": [
        "df = df.sample(frac = 1)\n",
        "df = df.reset_index(drop = True)\n",
        "y = df.target\n",
        "X = df\n",
        "X = X.rename(columns={X.columns[-1]: \"buffer\"})\n",
        "X.buffer = 1"
      ]
    },
    {
      "cell_type": "code",
      "source": [
        "X_train,X_test,y_train,y_test = train_test_split(X,y,test_size = 0.2,random_state = 1)"
      ],
      "metadata": {
        "id": "kxxLhZPFyOPy"
      },
      "execution_count": null,
      "outputs": []
    },
    {
      "cell_type": "code",
      "source": [
        "X_train = X_train.to_numpy()\n",
        "X_test = X_test.to_numpy()\n",
        "y_train = y_train.to_numpy()\n",
        "y_test = y_test.to_numpy()"
      ],
      "metadata": {
        "id": "an4gjti0zprS"
      },
      "execution_count": null,
      "outputs": []
    },
    {
      "cell_type": "code",
      "source": [
        "y_train[y_train == 0] = -1\n",
        "y_test[y_test == 0] = -1"
      ],
      "metadata": {
        "id": "19n1dvcm0ZwF"
      },
      "execution_count": null,
      "outputs": []
    },
    {
      "cell_type": "code",
      "execution_count": null,
      "metadata": {
        "id": "fNa57-_SosPU"
      },
      "outputs": [],
      "source": [
        "#initializing linear seaprator\n",
        "theta = np.zeros(11)"
      ]
    },
    {
      "cell_type": "code",
      "execution_count": null,
      "metadata": {
        "id": "lO6FfJAGp46D"
      },
      "outputs": [],
      "source": [
        "#changing 0 1 output to -1 1 output\n",
        "n = np.shape(X_train)[0]"
      ]
    },
    {
      "cell_type": "code",
      "execution_count": null,
      "metadata": {
        "colab": {
          "base_uri": "https://localhost:8080/"
        },
        "id": "nFGOFVsrmkEC",
        "outputId": "77c9bebd-f218-47bf-8740-037bac631e04"
      },
      "outputs": [
        {
          "output_type": "execute_result",
          "data": {
            "text/plain": [
              "751"
            ]
          },
          "metadata": {},
          "execution_count": 423
        }
      ],
      "source": [
        "t = 751\n",
        "count = 0\n",
        "for i in range(0,t):\n",
        "  temp = theta\n",
        "  count += 1\n",
        "  for j in range(0,n):\n",
        "    if (y_train[j]*(np.dot(theta.T, X_train[j][:].reshape(11,1))) <= 0):\n",
        "      theta = theta + y_train[j]*X_train[j][:]/20\n",
        "  #if ((theta.all() == temp.all())):\n",
        "   # break\n",
        "count"
      ]
    },
    {
      "cell_type": "code",
      "execution_count": null,
      "metadata": {
        "id": "aV_QYJATrtLT",
        "colab": {
          "base_uri": "https://localhost:8080/"
        },
        "outputId": "5ef30c23-41db-4cea-c57b-3d2b3a000836"
      },
      "outputs": [
        {
          "output_type": "execute_result",
          "data": {
            "text/plain": [
              "3804"
            ]
          },
          "metadata": {},
          "execution_count": 424
        }
      ],
      "source": [
        "#initializing the perdiction vector\n",
        "m = np.shape(y_test)[0]\n",
        "y_pred = np.zeros(m)\n",
        "m"
      ]
    },
    {
      "cell_type": "code",
      "execution_count": null,
      "metadata": {
        "id": "qMjas4h1h3zY"
      },
      "outputs": [],
      "source": [
        "#for j in range(0,m):\n",
        "# y_pred[j] = np.sign(np.dot(theta.T, X_test[j][:].reshape(10,1)))"
      ]
    },
    {
      "cell_type": "code",
      "execution_count": null,
      "metadata": {
        "id": "gUWrrtpkiFua"
      },
      "outputs": [],
      "source": [
        "#predicting\n",
        "y_pred = np.sign(np.dot(theta.T, X_test.T))\n",
        "y_pred2 = np.sign(np.dot(theta.T,X_train.T))"
      ]
    },
    {
      "cell_type": "code",
      "execution_count": null,
      "metadata": {
        "colab": {
          "base_uri": "https://localhost:8080/"
        },
        "id": "6r6zbDTdtFTo",
        "outputId": "51e481f5-16a6-42eb-e637-6a9540206b97"
      },
      "outputs": [
        {
          "output_type": "execute_result",
          "data": {
            "text/plain": [
              "0.7534174553101998"
            ]
          },
          "metadata": {},
          "execution_count": 427
        }
      ],
      "source": [
        "#calculating accuracy\n",
        "a = 0\n",
        "b = 0\n",
        "for i  in range(0,m):\n",
        "  if(y_test[i] == y_pred[i]):\n",
        "    a += 1\n",
        "accuracy = a/m\n",
        "accuracy"
      ]
    },
    {
      "cell_type": "code",
      "source": [
        "for i  in range(0,n):\n",
        "  if(y_train[i] == y_pred2[i]):\n",
        "    b += 1\n",
        "accuracy2 = b/n\n",
        "accuracy2"
      ],
      "metadata": {
        "colab": {
          "base_uri": "https://localhost:8080/"
        },
        "id": "iOHslXlO2Z-u",
        "outputId": "e4077e2a-7ea7-4b39-a725-1774ae212a43"
      },
      "execution_count": null,
      "outputs": [
        {
          "output_type": "execute_result",
          "data": {
            "text/plain": [
              "0.7542718191377498"
            ]
          },
          "metadata": {},
          "execution_count": 428
        }
      ]
    },
    {
      "cell_type": "code",
      "source": [
        "print(theta)"
      ],
      "metadata": {
        "colab": {
          "base_uri": "https://localhost:8080/"
        },
        "id": "5CJOQT2oYB4I",
        "outputId": "ddc9997e-a475-44f8-9417-5d27020d1cc4"
      },
      "execution_count": null,
      "outputs": [
        {
          "output_type": "stream",
          "name": "stdout",
          "text": [
            "[ -24.81113   -20.017345  680.06873  -658.88369  -846.364035   -2.520165\n",
            "   -3.50914    10.94603   -31.464345   -1.646335 1545.2     ]\n"
          ]
        }
      ]
    },
    {
      "cell_type": "code",
      "source": [
        "#[-4.88681000e+02 -4.54895800e+02  1.67521056e+04 -6.62376820e+03 -8.04345590e+03  2.14490900e+02  1.14085000e+01 -1.10743900e+02 -7.34167700e+02 -5.09870000e+00  1.91550000e+04] -76.18%"
      ],
      "metadata": {
        "id": "6JuNeq8tYGdk"
      },
      "execution_count": null,
      "outputs": []
    }
  ],
  "metadata": {
    "colab": {
      "provenance": [],
      "authorship_tag": "ABX9TyPW9r5qbFK72tToVCe7coY3",
      "include_colab_link": true
    },
    "kernelspec": {
      "display_name": "Python 3",
      "name": "python3"
    },
    "language_info": {
      "name": "python"
    }
  },
  "nbformat": 4,
  "nbformat_minor": 0
}